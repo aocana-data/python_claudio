{
 "cells": [
  {
   "cell_type": "code",
   "execution_count": 2,
   "metadata": {},
   "outputs": [],
   "source": [
    "import pdfplumber\n",
    "import datetime"
   ]
  },
  {
   "cell_type": "code",
   "execution_count": 11,
   "metadata": {},
   "outputs": [
    {
     "data": {
      "text/plain": [
       "{'page_number': 1,\n",
       " 'object_type': 'annot',\n",
       " 'x0': 117,\n",
       " 'y0': 599,\n",
       " 'x1': 567,\n",
       " 'y1': 609,\n",
       " 'doctop': 183.0,\n",
       " 'top': 183.0,\n",
       " 'bottom': 193.0,\n",
       " 'width': 450,\n",
       " 'height': 10,\n",
       " 'uri': None,\n",
       " 'title': 'numero_documento',\n",
       " 'contents': None,\n",
       " 'data': {'BS': {'S': /'S', 'W': 1},\n",
       "  'P': <Page:1>,\n",
       "  'T': b'numero_documento',\n",
       "  'V': b'IF-2021-21175128-GCABA-MJGGC',\n",
       "  'DA': b'/TiRo 11 Tf 0 g ',\n",
       "  'Rect': [117, 599, 567, 609],\n",
       "  'Ff': 1,\n",
       "  'Subtype': /'Widget',\n",
       "  'Type': /'Annot',\n",
       "  'F': 4,\n",
       "  'FT': /'Tx',\n",
       "  'DR': {'Font': {'TiRo': {'Subtype': /'Type1',\n",
       "     'Type': /'Font',\n",
       "     'BaseFont': /'Times-Roman',\n",
       "     'Encoding': /'WinAnsiEncoding'}}},\n",
       "  'AP': {'N': <PDFStream(110): raw=112, {'Subtype': /'Form', 'Filter': /'FlateDecode', 'Type': /'XObject', 'Matrix': [1, 0, 0, 1, 0, 0], 'FormType': 1, 'Resources': {'Font': {'TiRo': <PDFObjRef:2>}}, 'BBox': [0, 0, 450, 10], 'Length': 111}>}}}"
      ]
     },
     "execution_count": 11,
     "metadata": {},
     "output_type": "execute_result"
    }
   ],
   "source": [
    "temp = pdfplumber.open(\"ddjj_felipe_miguel_0.pdf\")\n",
    "page = temp.pages[0]\n",
    "import locale\n",
    "locale.setlocale(locale.LC_ALL, 'es_ES.utf8')\n",
    "#page.extract_text().split(\"\\n\")\n",
    "#print(page.annots[1].keys())\n",
    "#str(page.annots[1]) #[\"data\"][\"V\"]\n",
    "page.annots[1]\n",
    "#fecha = page.annots[1][\"data\"][\"V\"].decode(\"latin1\")\n",
    "#fecha = fecha.lower()\n",
    "#fecha = fecha.replace(\"miércoles\",\"wednesday\")\n",
    "#fecha = fecha.replace(\"junio\",\"june\")\n",
    "#print(fecha)\n",
    "#format = \"%A %d de %B de %Y\"\n",
    "#dt = datetime.datetime.strptime(fecha,format)\n",
    "#dt.strftime(\"%d/%m/%Y\")"
   ]
  },
  {
   "cell_type": "code",
   "execution_count": 4,
   "metadata": {},
   "outputs": [
    {
     "data": {
      "text/plain": [
       "{'page_number': 1,\n",
       " 'object_type': 'annot',\n",
       " 'x0': 117,\n",
       " 'y0': 599,\n",
       " 'x1': 567,\n",
       " 'y1': 609,\n",
       " 'doctop': 183.0,\n",
       " 'top': 183.0,\n",
       " 'bottom': 193.0,\n",
       " 'width': 450,\n",
       " 'height': 10,\n",
       " 'uri': None,\n",
       " 'title': 'numero_documento',\n",
       " 'contents': None,\n",
       " 'data': {'BS': {'S': /'S', 'W': 1},\n",
       "  'P': <Page:1>,\n",
       "  'T': b'numero_documento',\n",
       "  'V': b'IF-2021-19583835-GCABA-MJYSGC',\n",
       "  'DA': b'/TiRo 11 Tf 0 g ',\n",
       "  'Rect': [117, 599, 567, 609],\n",
       "  'Ff': 1,\n",
       "  'Subtype': /'Widget',\n",
       "  'Type': /'Annot',\n",
       "  'F': 4,\n",
       "  'FT': /'Tx',\n",
       "  'DR': {'Font': {'TiRo': {'Subtype': /'Type1',\n",
       "     'Type': /'Font',\n",
       "     'BaseFont': /'Times-Roman',\n",
       "     'Encoding': /'WinAnsiEncoding'}}},\n",
       "  'AP': {'N': <PDFStream(105): raw=113, {'Subtype': /'Form', 'Filter': /'FlateDecode', 'Type': /'XObject', 'Matrix': [1, 0, 0, 1, 0, 0], 'FormType': 1, 'Resources': {'Font': {'TiRo': <PDFObjRef:2>}}, 'BBox': [0, 0, 450, 10], 'Length': 112}>}}}"
      ]
     },
     "execution_count": 4,
     "metadata": {},
     "output_type": "execute_result"
    }
   ],
   "source": [
    "temp = pdfplumber.open(\"ddjj_santilli_1.pdf\")\n",
    "page = temp.pages[0]\n",
    "import locale\n",
    "locale.setlocale(locale.LC_ALL, 'es_ES.utf8')\n",
    "#page.extract_text().split(\"\\n\")\n",
    "#print(page.annots[1].keys())\n",
    "#str(page.annots[1]) #[\"data\"][\"V\"]\n",
    "page.annots[1]#[\"data\"][\"V\"]\n",
    "#fecha = page.annots[1][\"data\"][\"V\"].decode(\"latin1\")\n",
    "#fecha = fecha.lower()\n",
    "#fecha = fecha.replace(\"miércoles\",\"wednesday\")\n",
    "#fecha = fecha.replace(\"junio\",\"june\")\n",
    "#print(fecha)\n",
    "#format = \"%A %d de %B de %Y\"\n",
    "#dt = datetime.datetime.strptime(fecha,format)\n",
    "#dt.strftime(\"%d/%m/%Y\")"
   ]
  }
 ],
 "metadata": {
  "interpreter": {
   "hash": "3c6499dc75e3ee6a52ed0f7db6c3124f403dc5500d6c376344a19bd19d15676c"
  },
  "kernelspec": {
   "display_name": "Python 3.10.1 ('data_env')",
   "language": "python",
   "name": "python3"
  },
  "language_info": {
   "codemirror_mode": {
    "name": "ipython",
    "version": 3
   },
   "file_extension": ".py",
   "mimetype": "text/x-python",
   "name": "python",
   "nbconvert_exporter": "python",
   "pygments_lexer": "ipython3",
   "version": "3.10.1"
  },
  "orig_nbformat": 4
 },
 "nbformat": 4,
 "nbformat_minor": 2
}
